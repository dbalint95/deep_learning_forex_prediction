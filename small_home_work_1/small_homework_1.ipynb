{
  "nbformat": 4,
  "nbformat_minor": 0,
  "metadata": {
    "colab": {
      "name": "balint_david_h214z0_dl_small_homework_1.ipynb",
      "provenance": [],
      "collapsed_sections": [],
      "include_colab_link": true
    },
    "kernelspec": {
      "name": "python3",
      "display_name": "Python 3"
    }
  },
  "cells": [
    {
      "cell_type": "markdown",
      "metadata": {
        "id": "view-in-github",
        "colab_type": "text"
      },
      "source": [
        "<a href=\"https://colab.research.google.com/gist/dbalint95/ea3ef463061e999a6d96ae0a7370c350/balint_david_h214z0_dl_small_homework_1.ipynb\" target=\"_parent\"><img src=\"https://colab.research.google.com/assets/colab-badge.svg\" alt=\"Open In Colab\"/></a>"
      ]
    },
    {
      "cell_type": "code",
      "metadata": {
        "id": "3OxiJHiKtJ_L",
        "colab_type": "code",
        "colab": {}
      },
      "source": [
        "\"\"\"\n",
        "Author: Balint David\n",
        "Neptun code: H214Z0\n",
        "BME Deep Learning Course, Small homework I.\n",
        "\n",
        "Note: Every input file (images and audio file) should be located in the folder where the script is called from.\n",
        "\"\"\"\n",
        "\n",
        "import bs4  # for webpage handling\n",
        "import os  # for general maneuvers between directories\n",
        "import urllib.request  # for webpage opening\n",
        "import numpy as np  # for data handling\n",
        "import pandas as pd  # for data handling\n",
        "\n",
        "from matplotlib import pyplot as plt  # for visualizations\n",
        "from PIL import Image  # for image parsing\n",
        "from scipy import stats  # for standardization\n",
        "from scipy import signal  # for audio file handling\n",
        "from scipy.io import wavfile  # for audio file handling"
      ],
      "execution_count": 0,
      "outputs": []
    },
    {
      "cell_type": "code",
      "metadata": {
        "id": "nn2uO4oPyjmD",
        "colab_type": "code",
        "colab": {}
      },
      "source": [
        "\"\"\" 1. and 2. sub-task \"\"\"\n",
        "\n",
        "# Get current working directory\n",
        "working_dir = os.getcwd()\n",
        "# Iterate through the content of the directory, and look for .png files\n",
        "for file in os.listdir(working_dir):\n",
        "    if file.endswith(\".png\"):\n",
        "        print(\"Image found: {}\".format(file))\n",
        "\n",
        "        # Open the image\n",
        "        image = Image.open(file)\n",
        "        image.load()\n",
        "        image_data = np.asarray(image, dtype=\"int32\")  # Contains the data for RGB and opacity channels.\n",
        "\n",
        "        # Separate data of RGB channels\n",
        "        rgb_channels = {'red': image_data[:, :, 0],\n",
        "                        'green': image_data[:, :, 1],\n",
        "                        'blue': image_data[:, :, 2]}\n",
        "\n",
        "        # Iterate though the RGB channels\n",
        "        for color, channel_data in rgb_channels.items():\n",
        "            print(\"Channel data of {}: {}\".format(color, channel_data))\n",
        "\n",
        "            channel_mean = np.mean(channel_data)  # Mean of the current R/G/B channel data\n",
        "            channel_std = np.std(channel_data)  # Standard deviation of the current R/G/B channel data\n",
        "            print(\"Mean of {} channel data: {}\".format(color, channel_mean))\n",
        "            print(\"Standard deviation of {} channel data: {}\".format(color, channel_std))\n",
        "\n",
        "            channel_data_standardized = stats.zscore(channel_data.flatten())  # Standardized version of the given R/G/B channel data\n",
        "            print(\"Standardized channel data of {}: {}\".format(color, channel_data_standardized))\n",
        "            print(\"Mean of {} standardized channel data: {}\".format(color, np.mean(channel_data_standardized)))  # Should be zero or very close to zero\n",
        "            print(\"Standard deviation of {} standardized channel data: {}\".format(\n",
        "                color, np.std(channel_data_standardized)))  # # Should be one or very close to one\n",
        "\n",
        "        fig = plt.figure()  # Create new figure for each image\n",
        "        plt.imshow(image)  # Plot the image\n",
        "plt.show()  # Show plots"
      ],
      "execution_count": 0,
      "outputs": []
    },
    {
      "cell_type": "code",
      "metadata": {
        "id": "egxN6sPd0vck",
        "colab_type": "code",
        "colab": {}
      },
      "source": [
        "\"\"\" 3. sub-task \"\"\"\n",
        "\n",
        "link = \"https://blog.keras.io/the-future-of-deep-learning.html\"  # Link to be read as parameter\n",
        "webpage = str(urllib.request.urlopen(link).read())  # Open with the URL\n",
        "soup = bs4.BeautifulSoup(webpage, features=\"html.parser\")  # Create a BS container object, it has a lot methods to work with URL websites\n",
        "webpage_text = soup.get_text()  # Get text of the website\n",
        "print(\"Text of the webpage: {}\\n{}\".format(link, webpage_text))  # Print the text\n",
        "char_list = list(webpage_text)  # Separate each character into a list\n",
        "ser = pd.Series(char_list)  # Create a pandas Series object from the list\n",
        "ser = ser.str.lower()  # Make every character lower-case (if possible)\n",
        "ser = ser[ser.str.isalpha()]  # Reduce the list of characters to ones that are present in the alphabet\n",
        "ser = ser.groupby(ser.values).sum()  # Group the characters by the content of the Series, and summarize them: \n",
        "# if there are 30 'a' in the text, then at the index 'a' there shall be a string of 'aaaa.....a' width a length of 30\n",
        "\n",
        "# Iterate through the rows (the letters that are present in the text)\n",
        "for index, value in ser.items():\n",
        "    ser[index] = len(value)  # Change them width their length (basically with their number of occurences)\n",
        "ser = ser.sort_values(ascending=False)  # Sort them in descending mode\n",
        "\n",
        "fig = plt.figure()  # Create new figure\n",
        "plt.bar(ser.index, ser, width=0.5, color='g')  # Create a histogram\n",
        "plt.show()  # Show the plot"
      ],
      "execution_count": 0,
      "outputs": []
    },
    {
      "cell_type": "code",
      "metadata": {
        "id": "_xLrIsI32uzG",
        "colab_type": "code",
        "colab": {}
      },
      "source": [
        "\"\"\" 4. sub-task \"\"\"\n",
        "\n",
        "sample_rate, samples = wavfile.read('audio_1.wav')  # Read the wavfile, it shall return the samples and the sample rate\n",
        "frequencies, times, spectrogram = signal.spectrogram(samples, sample_rate)  # Create a spectogram object\n",
        "\n",
        "plt.pcolormesh(times, frequencies, np.log(spectrogram))  # Take the natural logarithm of the spectrogram for better visualization\n",
        "plt.ylabel('Frequency [Hz]')  # Set y label\n",
        "plt.xlabel('Time [sec]')  # Set x label\n",
        "plt.show()  # Show the plot"
      ],
      "execution_count": 0,
      "outputs": []
    }
  ]
}